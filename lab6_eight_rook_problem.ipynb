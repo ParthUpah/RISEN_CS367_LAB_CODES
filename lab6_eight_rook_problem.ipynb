{
  "nbformat": 4,
  "nbformat_minor": 0,
  "metadata": {
    "colab": {
      "provenance": [],
      "authorship_tag": "ABX9TyMU60TCvq0LSgxF55fv8oA2",
      "include_colab_link": true
    },
    "kernelspec": {
      "name": "python3",
      "display_name": "Python 3"
    },
    "language_info": {
      "name": "python"
    }
  },
  "cells": [
    {
      "cell_type": "markdown",
      "metadata": {
        "id": "view-in-github",
        "colab_type": "text"
      },
      "source": [
        "<a href=\"https://colab.research.google.com/github/ParthUpah/RISEN_CS367_LAB_CODES/blob/main/lab6_eight_rook_problem.ipynb\" target=\"_parent\"><img src=\"https://colab.research.google.com/assets/colab-badge.svg\" alt=\"Open In Colab\"/></a>"
      ]
    },
    {
      "cell_type": "code",
      "execution_count": 1,
      "metadata": {
        "colab": {
          "base_uri": "https://localhost:8080/",
          "height": 708
        },
        "id": "JJroL4Fpgzqd",
        "outputId": "b0674df1-7724-41f6-9be1-12b853f1e6db"
      },
      "outputs": [
        {
          "output_type": "stream",
          "name": "stdout",
          "text": [
            "Solution found in 2 iterations:\n",
            "[[-1  1  1  1  1 -1 -1  1]\n",
            " [-1  1 -1  1 -1 -1  1  1]\n",
            " [ 1  1 -1  1 -1 -1  1 -1]\n",
            " [ 1  1  1 -1 -1 -1 -1 -1]\n",
            " [-1  1  1 -1  1 -1  1  1]\n",
            " [-1  1 -1  1 -1 -1  1 -1]\n",
            " [-1 -1  1  1  1  1 -1  1]\n",
            " [ 1  1 -1  1 -1  1 -1  1]]\n"
          ]
        },
        {
          "output_type": "display_data",
          "data": {
            "text/plain": [
              "<Figure size 600x600 with 1 Axes>"
            ],
            "image/png": "[encoded data removed]"
          },
          "metadata": {}
        }
      ],
      "source": [
        "import numpy as np\n",
        "import matplotlib.pyplot as plt\n",
        "\n",
        "# Define the size of the chessboard (8x8 for the Eight-Rook problem)\n",
        "N = 8  # Number of rooks and size of the chessboard\n",
        "\n",
        "# Energy function for the Eight-Rook problem\n",
        "def energy_function(state, weights):\n",
        "    energy = -0.5 * np.dot(state.T, np.dot(weights, state))\n",
        "    return energy\n",
        "\n",
        "# Initialize the Hopfield network with random states (-1 or 1)\n",
        "def initialize_state(N):\n",
        "    # Create a random state where each neuron has a value of -1 or 1\n",
        "    state = np.random.choice([-1, 1], size=(N, N))\n",
        "    return state\n",
        "\n",
        "# Create the weight matrix for the Hopfield network\n",
        "def create_weights(N):\n",
        "    # Create a weight matrix that ensures one rook per row and column\n",
        "    weights = np.zeros((N*N, N*N))\n",
        "\n",
        "    # Row constraint: ensure exactly one rook per row\n",
        "    for i in range(N):\n",
        "        for j in range(N):\n",
        "            weights[i*N + j, i*N + j] = 2  # Self-weight for each position\n",
        "\n",
        "    # Column constraint: ensure exactly one rook per column\n",
        "    for i in range(N):\n",
        "        for j in range(N):\n",
        "            for k in range(N):\n",
        "                if j != k:\n",
        "                    weights[i*N + j, i*N + k] = -1  # Penalize when two rooks share a column\n",
        "\n",
        "    return weights\n",
        "\n",
        "# Hopfield update rule\n",
        "def hopfield_update(state, weights):\n",
        "    # Update the state of the Hopfield network\n",
        "    new_state = np.copy(state)\n",
        "    for i in range(N):\n",
        "        for j in range(N):\n",
        "            neuron_index = i * N + j\n",
        "            net_input = np.dot(weights[neuron_index], new_state.flatten())\n",
        "            new_state[i, j] = 1 if net_input > 0 else -1  # Apply thresholding function\n",
        "    return new_state\n",
        "\n",
        "# Function to check if the network has converged\n",
        "def check_convergence(state, prev_state):\n",
        "    return np.array_equal(state, prev_state)\n",
        "\n",
        "# Main function to solve the Eight-Rook problem using the Hopfield network\n",
        "def solve_eight_rook():\n",
        "    state = initialize_state(N)\n",
        "    weights = create_weights(N)\n",
        "\n",
        "    prev_state = np.copy(state)\n",
        "    iterations = 0\n",
        "\n",
        "    # Perform updates until convergence\n",
        "    while True:\n",
        "        state = hopfield_update(state, weights)\n",
        "        iterations += 1\n",
        "        if check_convergence(state, prev_state):\n",
        "            break\n",
        "        prev_state = np.copy(state)\n",
        "\n",
        "    # Return the final configuration of the rooks\n",
        "    return state, iterations\n",
        "\n",
        "# Solve the Eight-Rook problem using Hopfield network\n",
        "solution, iterations = solve_eight_rook()\n",
        "\n",
        "# Display the final configuration of rooks\n",
        "print(f\"Solution found in {iterations} iterations:\")\n",
        "print(solution)\n",
        "\n",
        "# Plot the solution\n",
        "plt.figure(figsize=(6, 6))\n",
        "plt.imshow(solution, cmap='binary', interpolation='nearest')\n",
        "plt.title(\"Eight-Rook Problem Solution\")\n",
        "plt.xticks(np.arange(N))\n",
        "plt.yticks(np.arange(N))\n",
        "plt.grid(True)\n",
        "plt.show()"
      ]
    }
  ]
}